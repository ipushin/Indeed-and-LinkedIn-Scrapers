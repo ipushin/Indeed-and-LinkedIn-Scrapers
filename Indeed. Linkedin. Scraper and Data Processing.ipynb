{
 "cells": [
  {
   "cell_type": "code",
   "execution_count": 1,
   "metadata": {},
   "outputs": [],
   "source": [
    "import pandas as pd\n",
    "import numpy as np\n",
    "import warnings\n",
    "warnings.filterwarnings('ignore')\n",
    "import re\n",
    "pd.set_option('display.max_columns', None)\n",
    "pd.set_option('display.max_rows', None)\n",
    "from bs4 import BeautifulSoup\n",
    "import re\n",
    "from random import randint\n",
    "from time import sleep\n",
    "from selenium import webdriver\n",
    "from selenium.webdriver.common.keys import Keys\n",
    "import pickle\n",
    "import requests\n",
    "import math\n",
    "from selenium.webdriver.support.ui import WebDriverWait\n",
    "from selenium.webdriver.common.by import By\n",
    "from selenium.webdriver.support import expected_conditions as EC\n",
    "from selenium.webdriver.common.action_chains import ActionChains\n",
    "import cfscrape\n",
    "from lxml import etree\n",
    "from datetime import date"
   ]
  },
  {
   "cell_type": "markdown",
   "metadata": {},
   "source": [
    "# Initiate webdriver"
   ]
  },
  {
   "cell_type": "code",
   "execution_count": 191,
   "metadata": {},
   "outputs": [],
   "source": [
    "browser = webdriver.Chrome('/Users/macbook/Downloads/Chrome Driver/chromedriver')\n",
    "linkedin_search = 'https://www.linkedin.com/jobs/search/?location=Worldwide'\n",
    "browser.get(linkedin_search)\n",
    "actions = ActionChains(browser)"
   ]
  },
  {
   "cell_type": "code",
   "execution_count": 89,
   "metadata": {},
   "outputs": [],
   "source": [
    "companies_list = pd.read_csv('Indeed_Companies-{}.csv'.format('25-08-2020'), index_col=[0])"
   ]
  },
  {
   "cell_type": "code",
   "execution_count": null,
   "metadata": {},
   "outputs": [],
   "source": [
    "for i in companies_list.index:\n",
    "    comp = companies_list['Company Original'].loc[i]\n",
    "    new_comp = re.sub(r' $','', comp)\n",
    "    companies_list['Company Original'].loc[i] = new_comp"
   ]
  },
  {
   "cell_type": "code",
   "execution_count": 304,
   "metadata": {},
   "outputs": [],
   "source": [
    "companies_list['Company Original'].loc[91] = 'Rivian'"
   ]
  },
  {
   "cell_type": "code",
   "execution_count": 192,
   "metadata": {},
   "outputs": [
    {
     "data": {
      "text/plain": [
       "52"
      ]
     },
     "execution_count": 192,
     "metadata": {},
     "output_type": "execute_result"
    }
   ],
   "source": [
    "diff_comps = {'Rivian Automotive': 'Rivian',\n",
    "              '100Thieves':'100 Thieves',\n",
    "              'Mozilla Corp':'Mozilla',\n",
    "              'RedHat':'Red Hat',\n",
    "              'UnderArmour':'Under Armour',\n",
    "              'ForeScout': 'Forescout Technologies Inc.',\n",
    "              'William Sonoma':'Williams-Sonoma, Inc.',\n",
    "              'Chef': 'Chef Software',\n",
    "              'DraftKings': 'DraftKings Inc.',\n",
    "              'Fanatics': 'Fanatics, Inc.',\n",
    "              'StitchFix': 'Stitch Fix',\n",
    "              'RealReal': 'The RealReal',\n",
    "              'New Relic': 'New Relic, Inc.',\n",
    "              'Synopsys': 'Synopsys Inc',\n",
    "              'Twilio': 'Twilio Inc.',\n",
    "              'Veeva System': 'Veeva Systems',\n",
    "              'Akamai': 'Akamai Technologies',\n",
    "              'Cadence Design': 'Cadence Design Systems',\n",
    "              'Check Point Software': 'Check Point Software Technologies, Ltd.',\n",
    "              'Coupa': 'Coupa Software',\n",
    "              'Dassault Systemes': 'Dassault Systèmes',\n",
    "              'Domo': 'Domo, Inc.',\n",
    "              'FireEye': 'FireEye, Inc.',\n",
    "              'Guidewire': 'Guidewire Software',\n",
    "              'Juniper': 'Juniper Networks',\n",
    "              'Okta': 'Okta, Inc.',\n",
    "              'Palantir': 'Palantir Technologies',\n",
    "              'Procore': 'Procore Technologies',\n",
    "              'Real Page': 'RealPage, Inc.',\n",
    "              'Wix': 'Wix.com',\n",
    "              'Global Payments': 'Global Payments Inc.',\n",
    "              'World Pay': 'Worldpay',\n",
    "              'Affirm': 'Affirm, Inc.',\n",
    "              'Asos': 'ASOS.com',\n",
    "              'Boohoo': 'Boohoo Group PLC',\n",
    "              'Zalando': 'Zalando SE',\n",
    "              'Home Depot': 'The Home Depot',\n",
    "              'Lowes': \"Lowe's Companies, Inc.\",\n",
    "              'Roku': 'Roku Inc.',\n",
    "              'Snap': 'Snap Inc.',\n",
    "              'Monzo': 'Monzo Bank',\n",
    "              'Docker': 'Docker, Inc',\n",
    "              'Scale.ai': 'Scale AI',\n",
    "              'Checkr': 'Checkr, Inc.',\n",
    "              'Marqeta': 'Marqeta, Inc',\n",
    "              'Checkout': 'Checkout.com',\n",
    "              'Sourcefire':'Sourcefire, part of Cisco',\n",
    "              'Agora.io':'Agora',\n",
    "              'Aras':'Aras Corporation',\n",
    "              'GitLab':'GitLab Inc.',\n",
    "              'Pentaho':'Pentaho from Hitachi Vantara',\n",
    "              'Mercury.co': 'Mercury - Banking for Startups'}\n",
    "len(diff_comps)"
   ]
  },
  {
   "cell_type": "code",
   "execution_count": 163,
   "metadata": {},
   "outputs": [],
   "source": [
    "companies_list['Company LinkedIn'] = companies_list['Company Original']\n",
    "for i in companies_list.index:\n",
    "    comp = companies_list['Company Original'].loc[i]\n",
    "    try:\n",
    "        companies_list['Company LinkedIn'].loc[i] = diff_comps[comp]\n",
    "    except:\n",
    "        pass"
   ]
  },
  {
   "cell_type": "code",
   "execution_count": 164,
   "metadata": {},
   "outputs": [
    {
     "data": {
      "text/plain": [
       "(52, 11)"
      ]
     },
     "execution_count": 164,
     "metadata": {},
     "output_type": "execute_result"
    }
   ],
   "source": [
    "companies_list[companies_list['Company LinkedIn']!=companies_list['Company Original']].shape"
   ]
  },
  {
   "cell_type": "code",
   "execution_count": 424,
   "metadata": {},
   "outputs": [],
   "source": [
    "companies_list.to_csv('Indeed_Companies-{}.csv'.format(date.today().strftime(\"%d-%m-%Y\")))"
   ]
  },
  {
   "cell_type": "code",
   "execution_count": 204,
   "metadata": {},
   "outputs": [
    {
     "data": {
      "text/plain": [
       "19"
      ]
     },
     "execution_count": 204,
     "metadata": {},
     "output_type": "execute_result"
    }
   ],
   "source": [
    "missed_comps = [x for x in companies_list['Company Original'] if x not in linkedin_posts['Company'].unique()]\n",
    "len(missed_comps)"
   ]
  },
  {
   "cell_type": "markdown",
   "metadata": {},
   "source": [
    "# Search"
   ]
  },
  {
   "cell_type": "code",
   "execution_count": 22,
   "metadata": {},
   "outputs": [],
   "source": [
    "wrong_choice = []\n",
    "temp_diff_comps = {}"
   ]
  },
  {
   "cell_type": "code",
   "execution_count": 15,
   "metadata": {},
   "outputs": [],
   "source": [
    "#linkedin_posts = pd.DataFrame([])"
   ]
  },
  {
   "cell_type": "code",
   "execution_count": 307,
   "metadata": {},
   "outputs": [
    {
     "name": "stdout",
     "output_type": "stream",
     "text": [
      "\n",
      "# 1 | Rivian\n",
      "--------------------------------------------------------------------------------\n",
      "+ Number of postings: 579\n",
      "+ Getting Company postings...\n",
      "got 200 out of 579\n",
      "got 400 out of 579\n",
      "+ Missed data, %\n",
      "Meta           0.7\n",
      "Posting URL    0.7\n",
      "dtype: float64\n",
      "\n",
      "+ Whole Table Size 49018\n",
      "\n",
      "# 2 | Shift\n",
      "--------------------------------------------------------------------------------\n",
      "+ Number of postings: 59\n",
      "+ You've viewed all jobs for this search\n",
      "+ Getting Company postings...\n",
      "+ Missed data, %\n",
      "Meta           0.0\n",
      "Posting URL    0.0\n",
      "dtype: float64\n",
      "\n",
      "+ Whole Table Size 49077\n",
      "CPU times: user 3.19 s, sys: 227 ms, total: 3.42 s\n",
      "Wall time: 2min 52s\n"
     ]
    }
   ],
   "source": [
    "%%time\n",
    "start = 1\n",
    "for i, company in enumerate(missed_comps[start:], start = start):\n",
    "    \n",
    "    \n",
    "    print('\\n#', i, '|', company)\n",
    "    print('-'*80)\n",
    "    \n",
    "    sleep(2)\n",
    "    # Click Company\n",
    "    path = '/html/body/header/section/form/ul/li[3]/div/button'\n",
    "    browser.find_element_by_xpath(path).click()\n",
    "    sleep(1)\n",
    "    \n",
    "    # Send company\n",
    "    search_comp = companies_list[companies_list['Company Original'] == company]['Company LinkedIn'].values[0]\n",
    "    \n",
    "    path = '/html/body/header/section/form/ul/li[3]/div/div/fieldset/div[1]/div/input'\n",
    "    browser.find_element_by_xpath(path).send_keys(search_comp)\n",
    "    sleep(1)\n",
    "    browser.find_element_by_xpath(path).send_keys(Keys.BACKSPACE)\n",
    "\n",
    "    sleep(1)\n",
    "    browser.find_element_by_xpath(path).send_keys(search_comp[-1])\n",
    "    \n",
    "    \n",
    "    # Choose company\n",
    "    try:\n",
    "        sleep(1)\n",
    "        path = '/html/body/header/section/form/ul/li[3]/div/div/fieldset/div[1]/div/input'\n",
    "        browser.find_element_by_xpath(path).send_keys(Keys.ARROW_DOWN)\n",
    "        \n",
    "        sleep(3)\n",
    "        browser.find_element_by_xpath(path).send_keys(Keys.ENTER)\n",
    "        sleep(1)\n",
    "    except:\n",
    "        pass\n",
    "    try:\n",
    "        # Press search\n",
    "        path = '/html/body/header/section/form/ul/li[3]/div/div/fieldset/div[2]/button'\n",
    "        browser.find_element_by_xpath(path).click()\n",
    "    except:\n",
    "        print('Wrong Company')\n",
    "        wrong_choice.append(company)\n",
    "        \n",
    "        try:\n",
    "            # Clear\n",
    "            path = '//*[@class=\"top-filters__clear-button\"]'\n",
    "            browser.find_element_by_xpath(path).click()\n",
    "            continue\n",
    "        except:\n",
    "            continue\n",
    "    \n",
    "    # Matched\n",
    "    sleep(1)\n",
    "    try:\n",
    "        path = '//*[@class=\"no-results__text\"]'\n",
    "        no_match = browser.find_element_by_xpath(path).text\n",
    "        if no_match:\n",
    "            print(no_match)\n",
    "            \n",
    "            try:\n",
    "                # Clear\n",
    "                path = '//*[@class=\"top-filters__clear-button\"]' \n",
    "                browser.find_element_by_xpath(path).click()\n",
    "                continue\n",
    "            \n",
    "            except:\n",
    "                continue\n",
    "    except:\n",
    "        pass\n",
    "    \n",
    "    sleep(2)\n",
    "    try:\n",
    "        # Got the right company?\n",
    "        path = '/html/body/main/div/section/ul/li[{}]'.format(1)\n",
    "        got_company = browser.find_element_by_xpath(path).text.split('\\n')[1]\n",
    "        if got_company.lower() == search_comp.lower() or got_company in diff_comps.values():\n",
    "            pass\n",
    "        \n",
    "        else:\n",
    "            print('Wrong Company')\n",
    "            temp_diff_comps[company] = got_company\n",
    "            \n",
    "            try:\n",
    "                # Clear\n",
    "                path = '//*[@class=\"top-filters__clear-button\"]' \n",
    "                browser.find_element_by_xpath(path).click()\n",
    "                continue\n",
    "            \n",
    "            except:\n",
    "                continue\n",
    "    \n",
    "    except:\n",
    "        print('No postings in search results')\n",
    "        wrong_choice.append(company)\n",
    "        \n",
    "        try:\n",
    "            # Clear\n",
    "            path = '//*[@class=\"top-filters__clear-button\"]' \n",
    "            browser.find_element_by_xpath(path).click()\n",
    "            continue\n",
    "        except:\n",
    "            continue\n",
    "    \n",
    "    \n",
    "    \n",
    "    # Results\n",
    "    path = '//*[@class=\"results-context-header__job-count\"]'\n",
    "    results = browser.find_element_by_xpath(path).text\n",
    "    results = re.sub(r'[^\\d]','',results)\n",
    "    results = int(results)\n",
    "   \n",
    "    print('+ Number of postings:', results)\n",
    "    \n",
    "    # Sorting\n",
    "    sleep(2)\n",
    "    if results >=1000:\n",
    "        path = '/html/body/header/section/form/ul/li[1]/div/button'\n",
    "        browser.find_element_by_xpath(path).click()\n",
    "        sleep(1)\n",
    "        path = '/html/body/header/section/form/ul/li[1]/div/div/fieldset/div[1]/ul/li[2]/label'\n",
    "        browser.find_element_by_xpath(path).click()\n",
    "        sleep(1)\n",
    "        path = '/html/body/header/section/form/ul/li[1]/div/div/fieldset/div[2]/button'\n",
    "        browser.find_element_by_xpath(path).click()\n",
    "        sleep(1)\n",
    "    else:\n",
    "        pass\n",
    "    \n",
    "    sleep(2)\n",
    "    # Scrolling pages\n",
    "    for i in range(50):\n",
    "\n",
    "        for _ in range(1):\n",
    "            actions.send_keys(Keys.PAGE_DOWN).perform()\n",
    "        \n",
    "        sleep(0.3)\n",
    "        # More    \n",
    "        try:\n",
    "            path = '//*[@class=\"infinite-scroller__show-more-button infinite-scroller__show-more-button--visible\"]'\n",
    "            browser.find_element_by_xpath(path).click()\n",
    "            sleep(0.3)\n",
    "        except:\n",
    "            pass\n",
    "\n",
    "        sleep(0.3)\n",
    "            \n",
    "\n",
    "        # Reached the bottom\n",
    "        try:\n",
    "            path = '//*[@class=\"inline-notification__text\"]'\n",
    "            bottom = browser.find_element_by_xpath(path).text\n",
    "            if bottom:\n",
    "                sleep(1)\n",
    "                print('+', bottom)\n",
    "                break\n",
    "        except:\n",
    "            pass\n",
    "    \n",
    "    # Populating Company dataframe\n",
    "    sleep(2)\n",
    "    print('+', 'Getting Company postings...')\n",
    "    if results > 1000:\n",
    "        results=1000\n",
    "    \n",
    "    # Company Data\n",
    "    company_postings = pd.DataFrame(range(results), columns=['Company'])\n",
    "    company_postings['Company'] = company\n",
    "    company_postings['Posting URL'] = np.nan\n",
    "    company_postings['Meta'] = np.nan\n",
    "    company_postings['Number of Postings'] = results\n",
    "    company_postings['Date'] = date.today().strftime(\"%d/%m/%Y\")\n",
    "    \n",
    "    for row in range(1, results+1):\n",
    "        sleep(0.05)\n",
    "        if row%200==0:\n",
    "            print('got', row, 'out of', results,)\n",
    "        try:  \n",
    "            path = '/html/body/main/div/section/ul/li[{}]'.format(row)\n",
    "            meta = browser.find_element_by_xpath(path).text\n",
    "            company_postings['Meta'].loc[row-1] = meta\n",
    "\n",
    "\n",
    "            path = '/html/body/main/div/section/ul/li[{}]/a'.format(row)\n",
    "            post_url = browser.find_element_by_xpath(path).get_attribute('href')\n",
    "            company_postings['Posting URL'].loc[row-1] = post_url\n",
    "        except:\n",
    "            pass\n",
    "    \n",
    "    sleep(1)\n",
    "    print('+', 'Missed data, %')\n",
    "    missed_data = round(company_postings[['Meta','Posting URL']].isna().sum()/company_postings.shape[0]*100, 1)\n",
    "    print(missed_data)\n",
    "    \n",
    "    linkedin_posts = pd.concat([linkedin_posts, company_postings], ignore_index=True)\n",
    "    print('\\n+', 'Whole Table Size', linkedin_posts.shape[0])\n",
    "    \n",
    "    sleep(1)\n",
    "    # Clear\n",
    "    path = '/html/body/header/section/form/ul/li[6]/button'\n",
    "    browser.find_element_by_xpath(path).click()\n",
    "    sleep(1)"
   ]
  },
  {
   "cell_type": "code",
   "execution_count": 207,
   "metadata": {},
   "outputs": [
    {
     "data": {
      "text/plain": [
       "(48394, 5)"
      ]
     },
     "execution_count": 207,
     "metadata": {},
     "output_type": "execute_result"
    }
   ],
   "source": [
    "linkedin_posts.shape"
   ]
  },
  {
   "cell_type": "code",
   "execution_count": 308,
   "metadata": {},
   "outputs": [
    {
     "data": {
      "text/plain": [
       "210"
      ]
     },
     "execution_count": 308,
     "metadata": {},
     "output_type": "execute_result"
    }
   ],
   "source": [
    "linkedin_posts['Company'].nunique()"
   ]
  },
  {
   "cell_type": "code",
   "execution_count": 209,
   "metadata": {},
   "outputs": [],
   "source": [
    "linkedin_posts.to_csv('Indeed_LinkedIn-Date-{}.csv'.format(date.today().strftime(\"%d-%m-%Y\")))"
   ]
  },
  {
   "cell_type": "markdown",
   "metadata": {},
   "source": [
    "## Processing data"
   ]
  },
  {
   "cell_type": "code",
   "execution_count": 309,
   "metadata": {},
   "outputs": [],
   "source": [
    "linkedin_processed = linkedin_posts.copy()"
   ]
  },
  {
   "cell_type": "code",
   "execution_count": 311,
   "metadata": {},
   "outputs": [],
   "source": [
    "linkedin_processed['Job Title'] = linkedin_processed['Meta'].str.split('\\n', expand=True)[0]\n",
    "linkedin_processed['Post Company'] = linkedin_processed['Meta'].str.split('\\n', expand=True)[1]\n",
    "linkedin_processed['Job Place'] = linkedin_processed['Meta'].str.split('\\n', expand=True)[2]\n",
    "linkedin_processed['Posting Date'] = linkedin_processed['Meta'].str.extract(r'(.+(?= ago))', expand=True)[0]"
   ]
  },
  {
   "cell_type": "code",
   "execution_count": 312,
   "metadata": {},
   "outputs": [
    {
     "data": {
      "text/plain": [
       "Company                  0\n",
       "Posting URL           5927\n",
       "Meta                  5926\n",
       "Number of Postings       0\n",
       "Date                     0\n",
       "Job Title             5926\n",
       "Post Company          5926\n",
       "Job Place             5926\n",
       "Posting Date          5952\n",
       "dtype: int64"
      ]
     },
     "execution_count": 312,
     "metadata": {},
     "output_type": "execute_result"
    }
   ],
   "source": [
    "linkedin_processed.isna().sum()"
   ]
  },
  {
   "cell_type": "code",
   "execution_count": 313,
   "metadata": {},
   "outputs": [
    {
     "data": {
      "text/plain": [
       "(1, 9)"
      ]
     },
     "execution_count": 313,
     "metadata": {},
     "output_type": "execute_result"
    }
   ],
   "source": [
    "linkedin_processed[(linkedin_processed.duplicated(subset=['Posting URL'])) &\n",
    "                   (~linkedin_processed['Meta'].isna())].shape"
   ]
  },
  {
   "cell_type": "code",
   "execution_count": 333,
   "metadata": {},
   "outputs": [],
   "source": [
    "num_posts = linkedin_processed[~linkedin_processed['Meta'].isna()].groupby(['Company'])['Meta'].count()\n",
    "num_posts = num_posts.reset_index().rename(columns={'Meta':'Postings Parsed'})"
   ]
  },
  {
   "cell_type": "code",
   "execution_count": 334,
   "metadata": {},
   "outputs": [],
   "source": [
    "linkedin_processed = linkedin_processed.drop(columns='Postings Parsed')"
   ]
  },
  {
   "cell_type": "code",
   "execution_count": 335,
   "metadata": {},
   "outputs": [],
   "source": [
    "linkedin_processed = pd.merge(linkedin_processed, num_posts, on='Company', how='left')"
   ]
  },
  {
   "cell_type": "code",
   "execution_count": 317,
   "metadata": {},
   "outputs": [
    {
     "data": {
      "text/html": [
       "<div>\n",
       "<style scoped>\n",
       "    .dataframe tbody tr th:only-of-type {\n",
       "        vertical-align: middle;\n",
       "    }\n",
       "\n",
       "    .dataframe tbody tr th {\n",
       "        vertical-align: top;\n",
       "    }\n",
       "\n",
       "    .dataframe thead th {\n",
       "        text-align: right;\n",
       "    }\n",
       "</style>\n",
       "<table border=\"1\" class=\"dataframe\">\n",
       "  <thead>\n",
       "    <tr style=\"text-align: right;\">\n",
       "      <th></th>\n",
       "      <th>Company</th>\n",
       "      <th>Posting URL</th>\n",
       "      <th>Meta</th>\n",
       "      <th>Number of Postings</th>\n",
       "      <th>Date</th>\n",
       "      <th>Job Title</th>\n",
       "      <th>Post Company</th>\n",
       "      <th>Job Place</th>\n",
       "      <th>Posting Date</th>\n",
       "      <th>Postings Parsed</th>\n",
       "    </tr>\n",
       "  </thead>\n",
       "  <tbody>\n",
       "    <tr>\n",
       "      <th>0</th>\n",
       "      <td>8X8</td>\n",
       "      <td>https://uk.linkedin.com/jobs/view/solutions-co...</td>\n",
       "      <td>Solutions Consultant - remote\\n8x8\\nManchester...</td>\n",
       "      <td>71</td>\n",
       "      <td>25/08/2020</td>\n",
       "      <td>Solutions Consultant - remote</td>\n",
       "      <td>8x8</td>\n",
       "      <td>Manchester, England, United Kingdom</td>\n",
       "      <td>20 hours</td>\n",
       "      <td>96</td>\n",
       "    </tr>\n",
       "  </tbody>\n",
       "</table>\n",
       "</div>"
      ],
      "text/plain": [
       "  Company                                        Posting URL  \\\n",
       "0     8X8  https://uk.linkedin.com/jobs/view/solutions-co...   \n",
       "\n",
       "                                                Meta  Number of Postings  \\\n",
       "0  Solutions Consultant - remote\\n8x8\\nManchester...                  71   \n",
       "\n",
       "         Date                      Job Title Post Company  \\\n",
       "0  25/08/2020  Solutions Consultant - remote          8x8   \n",
       "\n",
       "                             Job Place Posting Date  Postings Parsed  \n",
       "0  Manchester, England, United Kingdom     20 hours               96  "
      ]
     },
     "execution_count": 317,
     "metadata": {},
     "output_type": "execute_result"
    }
   ],
   "source": [
    "linkedin_processed.head(1)"
   ]
  },
  {
   "cell_type": "code",
   "execution_count": 336,
   "metadata": {},
   "outputs": [],
   "source": [
    "linkedin_processed['Number of Postings'] = linkedin_processed['Number of Postings'].astype(float)"
   ]
  },
  {
   "cell_type": "code",
   "execution_count": 337,
   "metadata": {},
   "outputs": [],
   "source": [
    "linkedin_processed['Postings Delta'] = linkedin_processed['Postings Parsed'] - linkedin_processed['Number of Postings']\n",
    "linkedin_processed['Postings Delta'] = round(linkedin_processed['Postings Delta']/linkedin_processed['Number of Postings']*100, 1)"
   ]
  },
  {
   "cell_type": "code",
   "execution_count": 339,
   "metadata": {},
   "outputs": [
    {
     "data": {
      "text/plain": [
       "(3, 15)"
      ]
     },
     "execution_count": 339,
     "metadata": {},
     "output_type": "execute_result"
    }
   ],
   "source": [
    "linkedin_processed[(linkedin_processed['Postings Delta'] <= -3) &\n",
    "                   (~linkedin_processed.duplicated(subset=['Company'], keep='first'))].shape#sample(2)"
   ]
  },
  {
   "cell_type": "code",
   "execution_count": 240,
   "metadata": {},
   "outputs": [
    {
     "data": {
      "text/plain": [
       "13"
      ]
     },
     "execution_count": 240,
     "metadata": {},
     "output_type": "execute_result"
    }
   ],
   "source": [
    "linkedin_processed[linkedin_processed['Meta'].isna()]['Company'].nunique()#.sample(10)"
   ]
  },
  {
   "cell_type": "markdown",
   "metadata": {},
   "source": [
    "#### Processing dates"
   ]
  },
  {
   "cell_type": "code",
   "execution_count": 322,
   "metadata": {},
   "outputs": [],
   "source": [
    "linkedin_processed['Posting Date Multiplier'] = linkedin_processed['Posting Date']\n",
    "for i in linkedin_processed.index:\n",
    "    if 'week' in str(linkedin_processed['Posting Date Multiplier'].loc[i]):\n",
    "        linkedin_processed['Posting Date Multiplier'].loc[i] = 7\n",
    "    \n",
    "    if 'month' in str(linkedin_processed['Posting Date Multiplier'].loc[i]):\n",
    "        linkedin_processed['Posting Date Multiplier'].loc[i] = 30\n",
    "    \n",
    "    if 'year' in str(linkedin_processed['Posting Date Multiplier'].loc[i]):\n",
    "        linkedin_processed['Posting Date Multiplier'].loc[i] = 365\n",
    "    \n",
    "    if 'day' in str(linkedin_processed['Posting Date Multiplier'].loc[i]):\n",
    "        linkedin_processed['Posting Date Multiplier'].loc[i] = 1\n",
    "    \n",
    "    if 'hour' in str(linkedin_processed['Posting Date Multiplier'].loc[i]):\n",
    "        linkedin_processed['Posting Date Multiplier'].loc[i] = 1\n",
    "    \n",
    "    if 'minute' in str(linkedin_processed['Posting Date Multiplier'].loc[i]):\n",
    "        linkedin_processed['Posting Date Multiplier'].loc[i] = 1"
   ]
  },
  {
   "cell_type": "code",
   "execution_count": 323,
   "metadata": {},
   "outputs": [
    {
     "data": {
      "text/plain": [
       "1      20205\n",
       "7      17826\n",
       "30      5030\n",
       "365       64\n",
       "Name: Posting Date Multiplier, dtype: int64"
      ]
     },
     "execution_count": 323,
     "metadata": {},
     "output_type": "execute_result"
    }
   ],
   "source": [
    "linkedin_processed['Posting Date Multiplier'].value_counts()"
   ]
  },
  {
   "cell_type": "code",
   "execution_count": 324,
   "metadata": {},
   "outputs": [],
   "source": [
    "linkedin_processed['Posting Date Multiplier'] = linkedin_processed['Posting Date Multiplier'].astype(float)"
   ]
  },
  {
   "cell_type": "code",
   "execution_count": 325,
   "metadata": {},
   "outputs": [],
   "source": [
    "linkedin_processed['Posting Date Num Raw'] = linkedin_processed['Posting Date']\n",
    "for i in linkedin_processed.index:\n",
    "\n",
    "    if 'hour' in str(linkedin_processed['Posting Date Num Raw'].loc[i]):\n",
    "        linkedin_processed['Posting Date Num Raw'].loc[i] = 1\n",
    "    \n",
    "    if 'minute' in str(linkedin_processed['Posting Date Num Raw'].loc[i]):\n",
    "        linkedin_processed['Posting Date Num Raw'].loc[i] = 1\n"
   ]
  },
  {
   "cell_type": "code",
   "execution_count": 326,
   "metadata": {},
   "outputs": [],
   "source": [
    "linkedin_processed['Posting Date Pre Num'] = linkedin_processed['Posting Date Num Raw'].astype(str).str.extract(r'(\\d)').astype(float)"
   ]
  },
  {
   "cell_type": "code",
   "execution_count": 327,
   "metadata": {},
   "outputs": [],
   "source": [
    "linkedin_processed['Posting Date Num'] = linkedin_processed['Posting Date Pre Num']*linkedin_processed['Posting Date Multiplier']"
   ]
  },
  {
   "cell_type": "code",
   "execution_count": 423,
   "metadata": {},
   "outputs": [
    {
     "data": {
      "text/html": [
       "<div>\n",
       "<style scoped>\n",
       "    .dataframe tbody tr th:only-of-type {\n",
       "        vertical-align: middle;\n",
       "    }\n",
       "\n",
       "    .dataframe tbody tr th {\n",
       "        vertical-align: top;\n",
       "    }\n",
       "\n",
       "    .dataframe thead th {\n",
       "        text-align: right;\n",
       "    }\n",
       "</style>\n",
       "<table border=\"1\" class=\"dataframe\">\n",
       "  <thead>\n",
       "    <tr style=\"text-align: right;\">\n",
       "      <th></th>\n",
       "      <th>Posting Date</th>\n",
       "      <th>Posting Date Multiplier</th>\n",
       "      <th>Posting Date Pre Num</th>\n",
       "      <th>Posting Date Num</th>\n",
       "    </tr>\n",
       "  </thead>\n",
       "  <tbody>\n",
       "    <tr>\n",
       "      <th>7712</th>\n",
       "      <td>6 days</td>\n",
       "      <td>1.0</td>\n",
       "      <td>6.0</td>\n",
       "      <td>6.0</td>\n",
       "    </tr>\n",
       "    <tr>\n",
       "      <th>20953</th>\n",
       "      <td>4 weeks</td>\n",
       "      <td>7.0</td>\n",
       "      <td>4.0</td>\n",
       "      <td>28.0</td>\n",
       "    </tr>\n",
       "    <tr>\n",
       "      <th>9034</th>\n",
       "      <td>1 week</td>\n",
       "      <td>7.0</td>\n",
       "      <td>1.0</td>\n",
       "      <td>7.0</td>\n",
       "    </tr>\n",
       "  </tbody>\n",
       "</table>\n",
       "</div>"
      ],
      "text/plain": [
       "      Posting Date  Posting Date Multiplier  Posting Date Pre Num  \\\n",
       "7712        6 days                      1.0                   6.0   \n",
       "20953      4 weeks                      7.0                   4.0   \n",
       "9034        1 week                      7.0                   1.0   \n",
       "\n",
       "       Posting Date Num  \n",
       "7712                6.0  \n",
       "20953              28.0  \n",
       "9034                7.0  "
      ]
     },
     "execution_count": 423,
     "metadata": {},
     "output_type": "execute_result"
    }
   ],
   "source": [
    "linkedin_processed[['Posting Date', 'Posting Date Multiplier', \n",
    "                   'Posting Date Pre Num', 'Posting Date Num']].sample(3)"
   ]
  },
  {
   "cell_type": "code",
   "execution_count": 329,
   "metadata": {},
   "outputs": [
    {
     "data": {
      "text/plain": [
       "Company                     0.000000\n",
       "Posting URL                12.076940\n",
       "Meta                       12.074903\n",
       "Number of Postings          0.000000\n",
       "Date                        0.000000\n",
       "Job Title                  12.074903\n",
       "Post Company               12.074903\n",
       "Job Place                  12.074903\n",
       "Posting Date               12.127881\n",
       "Postings Parsed             0.000000\n",
       "Postings Delta              0.000000\n",
       "Posting Date Multiplier    12.127881\n",
       "Posting Date Num Raw       12.127881\n",
       "Posting Date Pre Num       12.127881\n",
       "Posting Date Num           12.127881\n",
       "dtype: float64"
      ]
     },
     "execution_count": 329,
     "metadata": {},
     "output_type": "execute_result"
    }
   ],
   "source": [
    "linkedin_processed.isna().sum()/linkedin_processed.shape[0]*100"
   ]
  },
  {
   "cell_type": "code",
   "execution_count": 330,
   "metadata": {},
   "outputs": [
    {
     "data": {
      "text/plain": [
       "(49077, 15)"
      ]
     },
     "execution_count": 330,
     "metadata": {},
     "output_type": "execute_result"
    }
   ],
   "source": [
    "linkedin_processed.shape"
   ]
  },
  {
   "cell_type": "code",
   "execution_count": 332,
   "metadata": {},
   "outputs": [
    {
     "data": {
      "text/plain": [
       "(43150, 15)"
      ]
     },
     "execution_count": 332,
     "metadata": {},
     "output_type": "execute_result"
    }
   ],
   "source": [
    "linkedin_processed = linkedin_processed.drop_duplicates(subset=['Posting URL']).dropna(subset=['Posting URL'])\n",
    "linkedin_processed.shape"
   ]
  },
  {
   "cell_type": "markdown",
   "metadata": {},
   "source": [
    "## Getting correct titles"
   ]
  },
  {
   "cell_type": "markdown",
   "metadata": {},
   "source": [
    "### Classifying Titles"
   ]
  },
  {
   "cell_type": "code",
   "execution_count": 340,
   "metadata": {},
   "outputs": [
    {
     "data": {
      "text/plain": [
       "20795"
      ]
     },
     "execution_count": 340,
     "metadata": {},
     "output_type": "execute_result"
    }
   ],
   "source": [
    "linkedin_processed['Job Title'].nunique()"
   ]
  },
  {
   "cell_type": "code",
   "execution_count": 341,
   "metadata": {},
   "outputs": [],
   "source": [
    "linkedin_processed['Job Title New'] = linkedin_processed['Job Title'].fillna('-999').astype(str)"
   ]
  },
  {
   "cell_type": "code",
   "execution_count": 342,
   "metadata": {},
   "outputs": [
    {
     "data": {
      "text/plain": [
       "18616"
      ]
     },
     "execution_count": 342,
     "metadata": {},
     "output_type": "execute_result"
    }
   ],
   "source": [
    "# sales\n",
    "sales_idx = linkedin_processed[(linkedin_processed['Job Title New'].str.lower().str.contains(r'sale'))]['Job Title New'].index.to_list()\n",
    "linkedin_processed['Job Title New'].loc[sales_idx] = 'sales'\n",
    "linkedin_processed['Job Title New'].nunique()"
   ]
  },
  {
   "cell_type": "code",
   "execution_count": 343,
   "metadata": {},
   "outputs": [
    {
     "data": {
      "text/plain": [
       "12707"
      ]
     },
     "execution_count": 343,
     "metadata": {},
     "output_type": "execute_result"
    }
   ],
   "source": [
    "# engineering\n",
    "eng_idx = linkedin_processed[linkedin_processed['Job Title New'].str.lower().str.contains(r' engineer(?![a-z])|engineer |develop|architect')].index.to_list()\n",
    "linkedin_processed['Job Title New'].loc[eng_idx] = 'engineering'\n",
    "linkedin_processed['Job Title New'].nunique()"
   ]
  },
  {
   "cell_type": "code",
   "execution_count": 344,
   "metadata": {},
   "outputs": [
    {
     "data": {
      "text/plain": [
       "11696"
      ]
     },
     "execution_count": 344,
     "metadata": {},
     "output_type": "execute_result"
    }
   ],
   "source": [
    "# program & product management\n",
    "prod_idx = linkedin_processed[((linkedin_processed['Job Title New'].str.lower().str.contains(r' manager(?![a-z])') |\n",
    "                 (linkedin_processed['Job Title New'].str.lower().str.contains(r'manager |team lead')))) &\n",
    "\n",
    "                 ((linkedin_processed['Job Title New'].str.lower().str.contains(r' product(?![a-z])') |\n",
    "                 (linkedin_processed['Job Title New'].str.lower().str.contains(r'product ')))) |\n",
    "\n",
    "                 ((linkedin_processed['Job Title New'].str.lower().str.contains(r' program(?![a-z])') |\n",
    "                 (linkedin_processed['Job Title New'].str.lower().str.contains(r'program ')))) | \n",
    "                \n",
    "                (linkedin_processed['Job Title New'].str.lower().str.contains(r'product owner|product specialist'))\n",
    "\n",
    "                ]['Job Title New'].index.to_list()\n",
    "linkedin_processed['Job Title New'].loc[prod_idx] = 'program & product management'\n",
    "linkedin_processed['Job Title New'].nunique()"
   ]
  },
  {
   "cell_type": "code",
   "execution_count": 345,
   "metadata": {},
   "outputs": [
    {
     "data": {
      "text/plain": [
       "10486"
      ]
     },
     "execution_count": 345,
     "metadata": {},
     "output_type": "execute_result"
    }
   ],
   "source": [
    "# analytics\n",
    "analytics_idx = linkedin_processed[(linkedin_processed['Job Title New'].str.lower().str.contains(r'scientist')) | \n",
    "                     (linkedin_processed['Job Title New'].str.lower().str.contains(r'research')) |\n",
    "                     (linkedin_processed['Job Title New'].str.lower().str.contains(r'analys'))\n",
    "                    ]['Job Title New'].index.to_list()\n",
    "\n",
    "linkedin_processed['Job Title New'].loc[analytics_idx] = 'analytics'\n",
    "linkedin_processed['Job Title New'].nunique()"
   ]
  },
  {
   "cell_type": "code",
   "execution_count": 346,
   "metadata": {},
   "outputs": [
    {
     "data": {
      "text/plain": [
       "10131"
      ]
     },
     "execution_count": 346,
     "metadata": {},
     "output_type": "execute_result"
    }
   ],
   "source": [
    "# design\n",
    "design_idx = linkedin_processed[(linkedin_processed['Job Title New'].str.lower().str.contains(r'design'))]['Job Title New'].index.to_list()\n",
    "linkedin_processed['Job Title New'].loc[design_idx] = 'design'\n",
    "linkedin_processed['Job Title New'].nunique()"
   ]
  },
  {
   "cell_type": "code",
   "execution_count": 347,
   "metadata": {},
   "outputs": [
    {
     "data": {
      "text/plain": [
       "9484"
      ]
     },
     "execution_count": 347,
     "metadata": {},
     "output_type": "execute_result"
    }
   ],
   "source": [
    "# consulting\n",
    "consult_idx = linkedin_processed[(linkedin_processed['Job Title New'].str.lower().str.contains(r'consultant|advis'))]['Job Title New'].index.to_list()\n",
    "linkedin_processed['Job Title New'].loc[consult_idx] = 'consulting'\n",
    "linkedin_processed['Job Title New'].nunique()\n",
    "#.value_counts()#.nunique()##.nunique()\n"
   ]
  },
  {
   "cell_type": "code",
   "execution_count": 348,
   "metadata": {},
   "outputs": [
    {
     "data": {
      "text/plain": [
       "9243"
      ]
     },
     "execution_count": 348,
     "metadata": {},
     "output_type": "execute_result"
    }
   ],
   "source": [
    "# real estate\n",
    "re_idx = linkedin_processed[(linkedin_processed['Job Title New'].str.lower().str.contains(r'real estate|closer'))]['Job Title New'].index.to_list()\n",
    "linkedin_processed['Job Title New'].loc[re_idx] = 'real estate'\n",
    "linkedin_processed['Job Title New'].nunique()"
   ]
  },
  {
   "cell_type": "code",
   "execution_count": 349,
   "metadata": {},
   "outputs": [
    {
     "data": {
      "text/plain": [
       "7418"
      ]
     },
     "execution_count": 349,
     "metadata": {},
     "output_type": "execute_result"
    }
   ],
   "source": [
    "# operational\n",
    "oper_idx = linkedin_processed[(linkedin_processed['Job Title New'].str.lower().str.contains(r'support')) |\n",
    "                (linkedin_processed['Job Title New'].str.lower().str.contains(r'inventory')) |\n",
    "                (linkedin_processed['Job Title New'].str.lower().str.contains(r'representative|executive assistant')) |\n",
    "                (linkedin_processed['Job Title New'].str.lower().str.contains(r'office associate')) |\n",
    "                (linkedin_processed['Job Title New'].str.lower().str.contains(r'fulfillment')) |\n",
    "                 (linkedin_processed['Job Title New'].str.lower().str.contains(r'administr')) |\n",
    "                (linkedin_processed['Job Title New'].str.lower().str.contains(r'specialist')) |\n",
    "                 (linkedin_processed['Job Title New'].str.lower().str.contains(r'coordinator|buyers assistant')) |\n",
    "                 (linkedin_processed['Job Title New'].str.lower().str.contains(r'operations|supply associate')) \n",
    "                \n",
    "\n",
    "                ]['Job Title New'].index.to_list()\n",
    "\n",
    "linkedin_processed['Job Title New'].loc[oper_idx] = 'operational'\n",
    "linkedin_processed['Job Title New'].nunique()"
   ]
  },
  {
   "cell_type": "code",
   "execution_count": 363,
   "metadata": {},
   "outputs": [
    {
     "data": {
      "text/plain": [
       "1430"
      ]
     },
     "execution_count": 363,
     "metadata": {},
     "output_type": "execute_result"
    }
   ],
   "source": [
    "# techicians & general labor\n",
    "general_idx = linkedin_processed[\n",
    "                (linkedin_processed['Job Title New'].str.lower().str.contains(r'operator|technical|mechanic')) |\n",
    "                (linkedin_processed['Job Title New'].str.lower().str.contains(r'lot attendant|freight\\/receiving|auto body shop')) |\n",
    "                (linkedin_processed['Job Title New'].str.lower().str.contains(r'warehouse worker|deliver|livreur')) |\n",
    "                (linkedin_processed['Job Title New'].str.lower().str.contains(r'roofer|vehicle condition assessor')) |\n",
    "                (linkedin_processed['Job Title New'].str.lower().str.contains(r'installer|detailer|electrician|worker')) |\n",
    "\n",
    "                (linkedin_processed['Job Title New'].str.lower().str.contains(r'painter|concierge|driver|cashier')) |\n",
    "\n",
    "    \n",
    "                (linkedin_processed['Job Title New'].str.lower().str.contains(r'retail store associate|courier')) |\n",
    "                (linkedin_processed['Job Title New'].str.lower().str.contains(r'warehouse store associate|stock')) |\n",
    "                (linkedin_processed['Job Title New'].str.lower().str.contains(r'warehouse associate|lot associate')) |\n",
    "                 (linkedin_processed['Job Title New'].str.lower().str.contains(r'supervisor|librarian|retail associate')) |\n",
    "                 (linkedin_processed['Job Title New'].str.lower().str.contains(r'technici|general labor')) \n",
    "                ]['Job Title New'].index.to_list()\n",
    "\n",
    "linkedin_processed['Job Title New'].loc[general_idx] = 'technicians & general labor'\n",
    "linkedin_processed['Job Title New'].nunique()"
   ]
  },
  {
   "cell_type": "code",
   "execution_count": 351,
   "metadata": {},
   "outputs": [
    {
     "data": {
      "text/plain": [
       "3319"
      ]
     },
     "execution_count": 351,
     "metadata": {},
     "output_type": "execute_result"
    }
   ],
   "source": [
    "# general management\n",
    "mng_idx = linkedin_processed[((linkedin_processed['Job Title New'].str.lower().str.contains(r' manager(?![a-z])') |\n",
    "                 (linkedin_processed['Job Title New'].str.lower().str.contains(r'manager |manager\\,|lead')))) &\n",
    "               \n",
    "               \n",
    "\n",
    "                 (~linkedin_processed['Job Title New'].fillna('-999').astype(str).str.lower().str.contains(r' product(?![a-z])') &\n",
    "                 (~linkedin_processed['Job Title New'].fillna('-999').astype(str).str.lower().str.contains(r'product '))) &\n",
    "\n",
    "\n",
    "                 (~linkedin_processed['Job Title New'].fillna('-999').astype(str).str.lower().str.contains(r' program(?![a-z])') &\n",
    "                 (~linkedin_processed['Job Title New'].fillna('-999').astype(str).str.lower().str.contains(r'program ')))]['Job Title New'].index.to_list()\n",
    "\n",
    "linkedin_processed['Job Title New'].loc[mng_idx] = 'general management'\n",
    "linkedin_processed['Job Title New'].nunique()"
   ]
  },
  {
   "cell_type": "code",
   "execution_count": 352,
   "metadata": {},
   "outputs": [
    {
     "data": {
      "text/plain": [
       "1900"
      ]
     },
     "execution_count": 352,
     "metadata": {},
     "output_type": "execute_result"
    }
   ],
   "source": [
    "# executives\n",
    "exec_idx = linkedin_processed[(linkedin_processed['Job Title New'].str.lower().str.contains(r'director')) | \n",
    "                (linkedin_processed['Job Title New'].str.lower().str.contains(r'head of')) |\n",
    "                (linkedin_processed['Job Title New'].str.lower().str.contains(r'partner')) | \n",
    "                 (linkedin_processed['Job Title New'].str.lower().str.contains(r'president')) |\n",
    "                 (linkedin_processed['Job Title New'].str.lower().str.contains(r'officer')) |\n",
    "                (linkedin_processed['Job Title New'].str.contains(r'VP')) |\n",
    "                 (linkedin_processed['Job Title New'].str.lower().str.contains(r'executiv')) \n",
    "                \n",
    "                \n",
    "                ]['Job Title New'].index.to_list()\n",
    "\n",
    "linkedin_processed['Job Title New'].loc[exec_idx] = 'top/middle-level management'\n",
    "linkedin_processed['Job Title New'].nunique()"
   ]
  },
  {
   "cell_type": "code",
   "execution_count": 353,
   "metadata": {},
   "outputs": [
    {
     "data": {
      "text/plain": [
       "1803"
      ]
     },
     "execution_count": 353,
     "metadata": {},
     "output_type": "execute_result"
    }
   ],
   "source": [
    "# HR\n",
    "hr_idx = linkedin_processed[(linkedin_processed['Job Title New'].str.lower().str.contains(r'hr|human resou|hiring|recruit|talent|trainer'))]['Job Title New'].index.to_list()\n",
    "linkedin_processed['Job Title New'].loc[hr_idx] = 'human resources'\n",
    "linkedin_processed['Job Title New'].nunique()"
   ]
  },
  {
   "cell_type": "code",
   "execution_count": 354,
   "metadata": {},
   "outputs": [],
   "source": [
    "#linkedin_processed['Job Title New'].str.split(pat = \" \", expand=True).stack().value_counts()"
   ]
  },
  {
   "cell_type": "code",
   "execution_count": 355,
   "metadata": {},
   "outputs": [],
   "source": [
    "#linkedin_processed[linkedin_processed['Job Title New'].str.lower().str.contains('stock')]['Job Title New'].value_counts()"
   ]
  },
  {
   "cell_type": "code",
   "execution_count": 356,
   "metadata": {},
   "outputs": [
    {
     "data": {
      "text/plain": [
       "1711"
      ]
     },
     "execution_count": 356,
     "metadata": {},
     "output_type": "execute_result"
    }
   ],
   "source": [
    "# marketing\n",
    "marketing_idx = linkedin_processed[(linkedin_processed['Job Title New'].str.lower().str.contains(r'marketing|copywriter|marketer|content|merchandising'))]['Job Title New'].index.to_list()\n",
    "linkedin_processed['Job Title New'].loc[marketing_idx] = 'marketing'\n",
    "linkedin_processed['Job Title New'].nunique()"
   ]
  },
  {
   "cell_type": "code",
   "execution_count": 357,
   "metadata": {},
   "outputs": [
    {
     "data": {
      "text/plain": [
       "1584"
      ]
     },
     "execution_count": 357,
     "metadata": {},
     "output_type": "execute_result"
    }
   ],
   "source": [
    "# Finance\n",
    "finance_idx = linkedin_processed[(linkedin_processed['Job Title New'].str.lower().str.contains(r'accountant|financ|payroll|mortgage|risk|tax|impuestos'))]['Job Title New'].index.to_list()\n",
    "linkedin_processed['Job Title New'].loc[finance_idx] = 'finance'\n",
    "linkedin_processed['Job Title New'].nunique()"
   ]
  },
  {
   "cell_type": "code",
   "execution_count": 358,
   "metadata": {},
   "outputs": [
    {
     "data": {
      "text/plain": [
       "1440"
      ]
     },
     "execution_count": 358,
     "metadata": {},
     "output_type": "execute_result"
    }
   ],
   "source": [
    "# Legal\n",
    "legal_idx = linkedin_processed[(linkedin_processed['Job Title New'].str.lower().str.contains(r'legal|counsel'))]['Job Title New'].index.to_list()\n",
    "linkedin_processed['Job Title New'].loc[legal_idx] = 'legal'\n",
    "linkedin_processed['Job Title New'].nunique()"
   ]
  },
  {
   "cell_type": "markdown",
   "metadata": {},
   "source": [
    "#### Coverage"
   ]
  },
  {
   "cell_type": "code",
   "execution_count": 359,
   "metadata": {},
   "outputs": [],
   "source": [
    "linkedin_processed = linkedin_processed[linkedin_processed['Job Title New'] !='-999']"
   ]
  },
  {
   "cell_type": "code",
   "execution_count": 422,
   "metadata": {},
   "outputs": [
    {
     "data": {
      "text/plain": [
       "engineering                     13658\n",
       "general management               4666\n",
       "technicians & general labor      4644\n",
       "sales                            4007\n",
       "operational                      3256\n",
       "top/middle-level management      2507\n",
       "analytics                        2180\n",
       "program & product management     2093\n",
       "other                            2086\n",
       "consulting                       1459\n",
       "finance                          1047\n",
       "design                            684\n",
       "real estate                       258\n",
       "legal                             229\n",
       "marketing                         208\n",
       "human resources                   168\n",
       "Name: Job Title New, dtype: int64"
      ]
     },
     "execution_count": 422,
     "metadata": {},
     "output_type": "execute_result"
    }
   ],
   "source": [
    "linkedin_processed['Job Title New'].value_counts().head(17)"
   ]
  },
  {
   "cell_type": "code",
   "execution_count": 365,
   "metadata": {},
   "outputs": [
    {
     "data": {
      "text/plain": [
       "0.951657010428737"
      ]
     },
     "execution_count": 365,
     "metadata": {},
     "output_type": "execute_result"
    }
   ],
   "source": [
    "main_titles = linkedin_processed['Job Title New'].value_counts().head(15).index.to_list()\n",
    "linkedin_processed[linkedin_processed['Job Title New'].isin(main_titles)].shape[0]/linkedin_processed.shape[0]"
   ]
  },
  {
   "cell_type": "code",
   "execution_count": 366,
   "metadata": {},
   "outputs": [
    {
     "data": {
      "text/plain": [
       "16"
      ]
     },
     "execution_count": 366,
     "metadata": {},
     "output_type": "execute_result"
    }
   ],
   "source": [
    "# Other Titles\n",
    "other_idx = linkedin_processed[~linkedin_processed['Job Title New'].isin(main_titles)].index.to_list()\n",
    "linkedin_processed['Job Title New'].loc[other_idx] = 'other'\n",
    "linkedin_processed['Job Title New'].nunique()"
   ]
  },
  {
   "cell_type": "code",
   "execution_count": 367,
   "metadata": {
    "scrolled": false
   },
   "outputs": [
    {
     "data": {
      "text/plain": [
       "engineering                     13658\n",
       "general management               4666\n",
       "technicians & general labor      4644\n",
       "sales                            4007\n",
       "operational                      3256\n",
       "top/middle-level management      2507\n",
       "analytics                        2180\n",
       "program & product management     2093\n",
       "other                            2086\n",
       "consulting                       1459\n",
       "finance                          1047\n",
       "design                            684\n",
       "real estate                       258\n",
       "legal                             229\n",
       "marketing                         208\n",
       "human resources                   168\n",
       "Name: Job Title New, dtype: int64"
      ]
     },
     "execution_count": 367,
     "metadata": {},
     "output_type": "execute_result"
    }
   ],
   "source": [
    "linkedin_processed['Job Title New'].value_counts()"
   ]
  },
  {
   "cell_type": "markdown",
   "metadata": {},
   "source": [
    "### Missed Companies"
   ]
  },
  {
   "cell_type": "code",
   "execution_count": 369,
   "metadata": {},
   "outputs": [
    {
     "data": {
      "text/plain": [
       "18"
      ]
     },
     "execution_count": 369,
     "metadata": {},
     "output_type": "execute_result"
    }
   ],
   "source": [
    "missed_compnaies = []\n",
    "for company in companies_list['Company Original'].unique():\n",
    "    if company not in linkedin_processed['Company'].unique():# and company not in no_jobs: # \n",
    "        missed_compnaies.append(company)\n",
    "len(missed_compnaies)"
   ]
  },
  {
   "cell_type": "code",
   "execution_count": 371,
   "metadata": {},
   "outputs": [
    {
     "data": {
      "text/plain": [
       "18"
      ]
     },
     "execution_count": 371,
     "metadata": {},
     "output_type": "execute_result"
    }
   ],
   "source": [
    "no_jobs = missed_compnaies\n",
    "len(no_jobs)"
   ]
  },
  {
   "cell_type": "code",
   "execution_count": 372,
   "metadata": {},
   "outputs": [],
   "source": [
    "no_jobs_df = pd.DataFrame(no_jobs, columns=['Company'])"
   ]
  },
  {
   "cell_type": "markdown",
   "metadata": {},
   "source": [
    "## Getting weekly stat"
   ]
  },
  {
   "cell_type": "code",
   "execution_count": 373,
   "metadata": {},
   "outputs": [],
   "source": [
    "linkedin_processed = pd.concat([linkedin_processed, no_jobs_df], axis=0, ignore_index=True)"
   ]
  },
  {
   "cell_type": "code",
   "execution_count": 426,
   "metadata": {},
   "outputs": [],
   "source": [
    "linkedin_processed.to_csv('Indeed_LinkedIn-Processed-{}.csv'.format(date.today().strftime(\"%d-%m-%Y\")))"
   ]
  },
  {
   "cell_type": "markdown",
   "metadata": {},
   "source": [
    "### First two weeks"
   ]
  },
  {
   "cell_type": "code",
   "execution_count": 374,
   "metadata": {},
   "outputs": [
    {
     "data": {
      "text/plain": [
       "228"
      ]
     },
     "execution_count": 374,
     "metadata": {},
     "output_type": "execute_result"
    }
   ],
   "source": [
    "linkedin_processed['Company'].nunique()"
   ]
  },
  {
   "cell_type": "code",
   "execution_count": 375,
   "metadata": {},
   "outputs": [
    {
     "data": {
      "text/plain": [
       "(1795, 3)"
      ]
     },
     "execution_count": 375,
     "metadata": {},
     "output_type": "execute_result"
    }
   ],
   "source": [
    "groupe_df = linkedin_processed[linkedin_processed['Posting Date Num']<=15].groupby(['Company','Job Title New'])['Job Title'].count()\n",
    "groupe_df = groupe_df.reset_index()\n",
    "groupe_df.shape"
   ]
  },
  {
   "cell_type": "code",
   "execution_count": 376,
   "metadata": {
    "scrolled": false
   },
   "outputs": [
    {
     "data": {
      "text/plain": [
       "(207, 17)"
      ]
     },
     "execution_count": 376,
     "metadata": {},
     "output_type": "execute_result"
    }
   ],
   "source": [
    "pivot_df_two =pd.pivot_table(groupe_df, values='Job Title', index=['Company'],\n",
    "                        columns=['Job Title New'], aggfunc=np.sum).reset_index()\n",
    "pivot_df_two.shape"
   ]
  },
  {
   "cell_type": "code",
   "execution_count": 377,
   "metadata": {},
   "outputs": [],
   "source": [
    "pivot_df_two['Total'] = pivot_df_two.loc[:,'analytics':'top/middle-level management'].sum(axis=1)"
   ]
  },
  {
   "cell_type": "code",
   "execution_count": 378,
   "metadata": {},
   "outputs": [
    {
     "data": {
      "text/plain": [
       "207"
      ]
     },
     "execution_count": 378,
     "metadata": {},
     "output_type": "execute_result"
    }
   ],
   "source": [
    "pivot_df_two['Company'].nunique()"
   ]
  },
  {
   "cell_type": "code",
   "execution_count": 379,
   "metadata": {},
   "outputs": [],
   "source": [
    "# missed comps in pivot\n",
    "missed_in_pivot = [x for x in linkedin_processed['Company'].unique() if x not in pivot_df_two['Company'].unique()]\n",
    "missed_in_pivot_df_two = pd.DataFrame(missed_in_pivot, columns=['Company'])\n"
   ]
  },
  {
   "cell_type": "code",
   "execution_count": 380,
   "metadata": {},
   "outputs": [
    {
     "data": {
      "text/plain": [
       "(228, 18)"
      ]
     },
     "execution_count": 380,
     "metadata": {},
     "output_type": "execute_result"
    }
   ],
   "source": [
    "pivot_df_two = pd.concat([pivot_df_two, missed_in_pivot_df_two], ignore_index=True)\n",
    "pivot_df_two.shape"
   ]
  },
  {
   "cell_type": "code",
   "execution_count": 382,
   "metadata": {},
   "outputs": [
    {
     "data": {
      "text/plain": [
       "(228, 18)"
      ]
     },
     "execution_count": 382,
     "metadata": {},
     "output_type": "execute_result"
    }
   ],
   "source": [
    "pivot_df_two = pivot_df_two.sort_values('Company')\n",
    "pivot_df_two.shape"
   ]
  },
  {
   "cell_type": "code",
   "execution_count": 383,
   "metadata": {},
   "outputs": [],
   "source": [
    "cols = ['Company', 'Total','analytics', 'consulting', 'design', 'engineering',\n",
    "       'finance', 'general management', 'human resources', 'legal',\n",
    "       'marketing', 'operational', 'other', 'program & product management',\n",
    "       'real estate', 'sales', 'technicians & general labor',\n",
    "       'top/middle-level management']\n",
    "pivot_df_two = pivot_df_two[cols]"
   ]
  },
  {
   "cell_type": "code",
   "execution_count": 387,
   "metadata": {},
   "outputs": [],
   "source": [
    "spreadsheet_key = '14Q8hgWrH-OpEEIky8yB2zuIKGEJXNkfjspqogFwGXuw'"
   ]
  },
  {
   "cell_type": "code",
   "execution_count": 388,
   "metadata": {},
   "outputs": [],
   "source": [
    "import json\n",
    "import gspread\n",
    "from oauth2client.service_account import ServiceAccountCredentials\n",
    "from df2gspread import df2gspread as d2g\n",
    "scope = ['https://spreadsheets.google.com/feeds'] \n",
    "credentials = ServiceAccountCredentials.from_json_keyfile_name('/Users/macbook/Downloads/gs-credentials.json', scope) \n",
    "gc = gspread.authorize(credentials)"
   ]
  },
  {
   "cell_type": "code",
   "execution_count": 389,
   "metadata": {},
   "outputs": [
    {
     "data": {
      "text/plain": [
       "<Worksheet '0 to 15 days back. 26-08-2020' id:1956497962>"
      ]
     },
     "execution_count": 389,
     "metadata": {},
     "output_type": "execute_result"
    }
   ],
   "source": [
    "d2g.upload(pivot_df_two.fillna('-').reset_index(drop=True),\n",
    "           spreadsheet_key,\n",
    "           '0 to 15 days back. {}'.format(date.today().strftime(\"%d-%m-%Y\")),\n",
    "           credentials=credentials,\n",
    "           col_names=True,\n",
    "           row_names=False,\n",
    "           start_cell = 'A1',\n",
    "           clean=True)"
   ]
  },
  {
   "cell_type": "markdown",
   "metadata": {},
   "source": [
    "### Second two weeks"
   ]
  },
  {
   "cell_type": "code",
   "execution_count": 390,
   "metadata": {},
   "outputs": [
    {
     "data": {
      "text/plain": [
       "(1282, 3)"
      ]
     },
     "execution_count": 390,
     "metadata": {},
     "output_type": "execute_result"
    }
   ],
   "source": [
    "groupe_df = linkedin_processed[(linkedin_processed['Posting Date Num']>=15) & (linkedin_processed['Posting Date Num']<=30)].groupby(['Company','Job Title New'])['Job Title'].count()\n",
    "groupe_df = groupe_df.reset_index()\n",
    "groupe_df.shape"
   ]
  },
  {
   "cell_type": "code",
   "execution_count": 391,
   "metadata": {
    "scrolled": false
   },
   "outputs": [
    {
     "data": {
      "text/plain": [
       "(199, 17)"
      ]
     },
     "execution_count": 391,
     "metadata": {},
     "output_type": "execute_result"
    }
   ],
   "source": [
    "pivot_df_two =pd.pivot_table(groupe_df, values='Job Title', index=['Company'],\n",
    "                        columns=['Job Title New'], aggfunc=np.sum).reset_index()\n",
    "pivot_df_two.shape"
   ]
  },
  {
   "cell_type": "code",
   "execution_count": 392,
   "metadata": {},
   "outputs": [],
   "source": [
    "pivot_df_two['Total'] = pivot_df_two.loc[:,'analytics':'top/middle-level management'].sum(axis=1)"
   ]
  },
  {
   "cell_type": "code",
   "execution_count": 393,
   "metadata": {},
   "outputs": [
    {
     "data": {
      "text/plain": [
       "199"
      ]
     },
     "execution_count": 393,
     "metadata": {},
     "output_type": "execute_result"
    }
   ],
   "source": [
    "pivot_df_two['Company'].nunique()"
   ]
  },
  {
   "cell_type": "code",
   "execution_count": 394,
   "metadata": {},
   "outputs": [],
   "source": [
    "# missed comps in pivot\n",
    "missed_in_pivot = [x for x in linkedin_processed['Company'].unique() if x not in pivot_df_two['Company'].unique()]\n",
    "missed_in_pivot_df_two = pd.DataFrame(missed_in_pivot, columns=['Company'])\n"
   ]
  },
  {
   "cell_type": "code",
   "execution_count": 395,
   "metadata": {},
   "outputs": [
    {
     "data": {
      "text/plain": [
       "(228, 18)"
      ]
     },
     "execution_count": 395,
     "metadata": {},
     "output_type": "execute_result"
    }
   ],
   "source": [
    "pivot_df_two = pd.concat([pivot_df_two, missed_in_pivot_df_two], ignore_index=True)\n",
    "pivot_df_two.shape"
   ]
  },
  {
   "cell_type": "code",
   "execution_count": 396,
   "metadata": {},
   "outputs": [
    {
     "data": {
      "text/plain": [
       "(228, 18)"
      ]
     },
     "execution_count": 396,
     "metadata": {},
     "output_type": "execute_result"
    }
   ],
   "source": [
    "pivot_df_two = pivot_df_two.sort_values('Company')\n",
    "pivot_df_two.shape"
   ]
  },
  {
   "cell_type": "code",
   "execution_count": 397,
   "metadata": {},
   "outputs": [],
   "source": [
    "cols = ['Company', 'Total','analytics', 'consulting', 'design', 'engineering',\n",
    "       'finance', 'general management', 'human resources', 'legal',\n",
    "       'marketing', 'operational', 'other', 'program & product management',\n",
    "       'real estate', 'sales', 'technicians & general labor',\n",
    "       'top/middle-level management']\n",
    "pivot_df_two = pivot_df_two[cols]"
   ]
  },
  {
   "cell_type": "code",
   "execution_count": 398,
   "metadata": {},
   "outputs": [
    {
     "data": {
      "text/plain": [
       "<Worksheet '15 to 30 days back. 26-08-2020' id:272044683>"
      ]
     },
     "execution_count": 398,
     "metadata": {},
     "output_type": "execute_result"
    }
   ],
   "source": [
    "d2g.upload(pivot_df_two.fillna('-').reset_index(drop=True),\n",
    "           spreadsheet_key,\n",
    "           '15 to 30 days back. {}'.format(date.today().strftime(\"%d-%m-%Y\")),\n",
    "           credentials=credentials,\n",
    "           col_names=True,\n",
    "           row_names=False,\n",
    "           start_cell = 'A1',\n",
    "           clean=True)"
   ]
  },
  {
   "cell_type": "markdown",
   "metadata": {},
   "source": [
    "### More than month"
   ]
  },
  {
   "cell_type": "code",
   "execution_count": 412,
   "metadata": {},
   "outputs": [
    {
     "data": {
      "text/plain": [
       "(636, 3)"
      ]
     },
     "execution_count": 412,
     "metadata": {},
     "output_type": "execute_result"
    }
   ],
   "source": [
    "groupe_df = linkedin_processed[linkedin_processed['Posting Date Num']>=30].groupby(['Company','Job Title New'])['Job Title'].count()\n",
    "groupe_df = groupe_df.reset_index()\n",
    "groupe_df.shape"
   ]
  },
  {
   "cell_type": "code",
   "execution_count": 413,
   "metadata": {
    "scrolled": false
   },
   "outputs": [
    {
     "data": {
      "text/plain": [
       "(135, 17)"
      ]
     },
     "execution_count": 413,
     "metadata": {},
     "output_type": "execute_result"
    }
   ],
   "source": [
    "pivot_df_two =pd.pivot_table(groupe_df, values='Job Title', index=['Company'],\n",
    "                        columns=['Job Title New'], aggfunc=np.sum).reset_index()\n",
    "pivot_df_two.shape"
   ]
  },
  {
   "cell_type": "code",
   "execution_count": 414,
   "metadata": {},
   "outputs": [],
   "source": [
    "pivot_df_two['Total'] = pivot_df_two.loc[:,'analytics':'top/middle-level management'].sum(axis=1)"
   ]
  },
  {
   "cell_type": "code",
   "execution_count": 415,
   "metadata": {},
   "outputs": [
    {
     "data": {
      "text/plain": [
       "135"
      ]
     },
     "execution_count": 415,
     "metadata": {},
     "output_type": "execute_result"
    }
   ],
   "source": [
    "pivot_df_two['Company'].nunique()"
   ]
  },
  {
   "cell_type": "code",
   "execution_count": 416,
   "metadata": {},
   "outputs": [],
   "source": [
    "# missed comps in pivot\n",
    "missed_in_pivot = [x for x in linkedin_processed['Company'].unique() if x not in pivot_df_two['Company'].unique()]\n",
    "missed_in_pivot_df_two = pd.DataFrame(missed_in_pivot, columns=['Company'])\n"
   ]
  },
  {
   "cell_type": "code",
   "execution_count": 417,
   "metadata": {},
   "outputs": [
    {
     "data": {
      "text/plain": [
       "(228, 18)"
      ]
     },
     "execution_count": 417,
     "metadata": {},
     "output_type": "execute_result"
    }
   ],
   "source": [
    "pivot_df_two = pd.concat([pivot_df_two, missed_in_pivot_df_two], ignore_index=True)\n",
    "pivot_df_two.shape"
   ]
  },
  {
   "cell_type": "code",
   "execution_count": 418,
   "metadata": {},
   "outputs": [
    {
     "data": {
      "text/plain": [
       "(228, 18)"
      ]
     },
     "execution_count": 418,
     "metadata": {},
     "output_type": "execute_result"
    }
   ],
   "source": [
    "pivot_df_two = pivot_df_two.sort_values('Company')\n",
    "pivot_df_two.shape"
   ]
  },
  {
   "cell_type": "code",
   "execution_count": 419,
   "metadata": {},
   "outputs": [],
   "source": [
    "cols = ['Company', 'Total','analytics', 'consulting', 'design', 'engineering',\n",
    "       'finance', 'general management', 'human resources', 'legal',\n",
    "       'marketing', 'operational', 'other', 'program & product management',\n",
    "       'real estate', 'sales', 'technicians & general labor',\n",
    "       'top/middle-level management']\n",
    "pivot_df_two = pivot_df_two[cols]"
   ]
  },
  {
   "cell_type": "code",
   "execution_count": 420,
   "metadata": {},
   "outputs": [
    {
     "data": {
      "text/plain": [
       "<Worksheet '30+ days back. 26-08-2020' id:1231174472>"
      ]
     },
     "execution_count": 420,
     "metadata": {},
     "output_type": "execute_result"
    }
   ],
   "source": [
    "d2g.upload(pivot_df_two.fillna('-').reset_index(drop=True),\n",
    "           spreadsheet_key,\n",
    "           '30+ days back. {}'.format(date.today().strftime(\"%d-%m-%Y\")),\n",
    "           credentials=credentials,\n",
    "           col_names=True,\n",
    "           row_names=False,\n",
    "           start_cell = 'A1',\n",
    "           clean=True)"
   ]
  },
  {
   "cell_type": "markdown",
   "metadata": {},
   "source": [
    "### Raw Data"
   ]
  },
  {
   "cell_type": "code",
   "execution_count": 411,
   "metadata": {},
   "outputs": [
    {
     "data": {
      "text/plain": [
       "(43168, 6)"
      ]
     },
     "execution_count": 411,
     "metadata": {},
     "output_type": "execute_result"
    }
   ],
   "source": [
    "raw_data = linkedin_processed[['Company',\n",
    "                              'Job Title',\n",
    "                              'Posting Date',\n",
    "                              'Job Title New',\n",
    "                              'Job Place',\n",
    "                              'Posting URL']].fillna('-')\n",
    "raw_data.shape"
   ]
  },
  {
   "cell_type": "code",
   "execution_count": 409,
   "metadata": {},
   "outputs": [
    {
     "data": {
      "text/plain": [
       "<Worksheet 'Raw Data. 26-08-2020' id:986302769>"
      ]
     },
     "execution_count": 409,
     "metadata": {},
     "output_type": "execute_result"
    }
   ],
   "source": [
    "d2g.upload(raw_data,\n",
    "           spreadsheet_key,\n",
    "           'Raw Data. {}'.format(date.today().strftime(\"%d-%m-%Y\")),\n",
    "           credentials=credentials,\n",
    "           col_names=True,\n",
    "           row_names=False,\n",
    "           start_cell = 'A1',\n",
    "           clean=True)"
   ]
  }
 ],
 "metadata": {
  "kernelspec": {
   "display_name": "Python 3",
   "language": "python",
   "name": "python3"
  },
  "language_info": {
   "codemirror_mode": {
    "name": "ipython",
    "version": 3
   },
   "file_extension": ".py",
   "mimetype": "text/x-python",
   "name": "python",
   "nbconvert_exporter": "python",
   "pygments_lexer": "ipython3",
   "version": "3.7.5"
  }
 },
 "nbformat": 4,
 "nbformat_minor": 4
}
